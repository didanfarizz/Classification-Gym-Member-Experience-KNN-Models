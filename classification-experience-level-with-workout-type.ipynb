{
 "cells": [
  {
   "cell_type": "code",
   "execution_count": 1,
   "id": "25528c1d",
   "metadata": {
    "_cell_guid": "b1076dfc-b9ad-4769-8c92-a6c4dae69d19",
    "_uuid": "8f2839f25d086af736a60e9eeb907d3b93b6e0e5",
    "execution": {
     "iopub.execute_input": "2024-11-24T12:26:58.870979Z",
     "iopub.status.busy": "2024-11-24T12:26:58.870332Z",
     "iopub.status.idle": "2024-11-24T12:26:59.754148Z",
     "shell.execute_reply": "2024-11-24T12:26:59.752711Z"
    },
    "papermill": {
     "duration": 0.895451,
     "end_time": "2024-11-24T12:26:59.756518",
     "exception": false,
     "start_time": "2024-11-24T12:26:58.861067",
     "status": "completed"
    },
    "tags": []
   },
   "outputs": [
    {
     "name": "stdout",
     "output_type": "stream",
     "text": [
      "/kaggle/input/gym-members-exercise-dataset/gym_members_exercise_tracking.csv\n"
     ]
    }
   ],
   "source": [
    "# This Python 3 environment comes with many helpful analytics libraries installed\n",
    "# It is defined by the kaggle/python Docker image: https://github.com/kaggle/docker-python\n",
    "# For example, here's several helpful packages to load\n",
    "\n",
    "import numpy as np # linear algebra\n",
    "import pandas as pd # data processing, CSV file I/O (e.g. pd.read_csv)\n",
    "\n",
    "# Input data files are available in the read-only \"../input/\" directory\n",
    "# For example, running this (by clicking run or pressing Shift+Enter) will list all files under the input directory\n",
    "\n",
    "import os\n",
    "for dirname, _, filenames in os.walk('/kaggle/input'):\n",
    "    for filename in filenames:\n",
    "        print(os.path.join(dirname, filename))\n",
    "\n",
    "# You can write up to 20GB to the current directory (/kaggle/working/) that gets preserved as output when you create a version using \"Save & Run All\" \n",
    "# You can also write temporary files to /kaggle/temp/, but they won't be saved outside of the current session"
   ]
  },
  {
   "cell_type": "code",
   "execution_count": 2,
   "id": "acad2d39",
   "metadata": {
    "execution": {
     "iopub.execute_input": "2024-11-24T12:26:59.771441Z",
     "iopub.status.busy": "2024-11-24T12:26:59.770016Z",
     "iopub.status.idle": "2024-11-24T12:27:01.970487Z",
     "shell.execute_reply": "2024-11-24T12:27:01.969075Z"
    },
    "papermill": {
     "duration": 2.210195,
     "end_time": "2024-11-24T12:27:01.973079",
     "exception": false,
     "start_time": "2024-11-24T12:26:59.762884",
     "status": "completed"
    },
    "tags": []
   },
   "outputs": [
    {
     "data": {
      "text/html": [
       "<div>\n",
       "<style scoped>\n",
       "    .dataframe tbody tr th:only-of-type {\n",
       "        vertical-align: middle;\n",
       "    }\n",
       "\n",
       "    .dataframe tbody tr th {\n",
       "        vertical-align: top;\n",
       "    }\n",
       "\n",
       "    .dataframe thead th {\n",
       "        text-align: right;\n",
       "    }\n",
       "</style>\n",
       "<table border=\"1\" class=\"dataframe\">\n",
       "  <thead>\n",
       "    <tr style=\"text-align: right;\">\n",
       "      <th></th>\n",
       "      <th>Age</th>\n",
       "      <th>Gender</th>\n",
       "      <th>Weight (kg)</th>\n",
       "      <th>Height (m)</th>\n",
       "      <th>Max_BPM</th>\n",
       "      <th>Avg_BPM</th>\n",
       "      <th>Resting_BPM</th>\n",
       "      <th>Session_Duration (hours)</th>\n",
       "      <th>Calories_Burned</th>\n",
       "      <th>Workout_Type</th>\n",
       "      <th>Fat_Percentage</th>\n",
       "      <th>Water_Intake (liters)</th>\n",
       "      <th>Workout_Frequency (days/week)</th>\n",
       "      <th>Experience_Level</th>\n",
       "      <th>BMI</th>\n",
       "    </tr>\n",
       "  </thead>\n",
       "  <tbody>\n",
       "    <tr>\n",
       "      <th>0</th>\n",
       "      <td>56</td>\n",
       "      <td>Male</td>\n",
       "      <td>88.3</td>\n",
       "      <td>1.71</td>\n",
       "      <td>180</td>\n",
       "      <td>157</td>\n",
       "      <td>60</td>\n",
       "      <td>1.69</td>\n",
       "      <td>1313.0</td>\n",
       "      <td>Yoga</td>\n",
       "      <td>12.6</td>\n",
       "      <td>3.5</td>\n",
       "      <td>4</td>\n",
       "      <td>3</td>\n",
       "      <td>30.20</td>\n",
       "    </tr>\n",
       "    <tr>\n",
       "      <th>1</th>\n",
       "      <td>46</td>\n",
       "      <td>Female</td>\n",
       "      <td>74.9</td>\n",
       "      <td>1.53</td>\n",
       "      <td>179</td>\n",
       "      <td>151</td>\n",
       "      <td>66</td>\n",
       "      <td>1.30</td>\n",
       "      <td>883.0</td>\n",
       "      <td>HIIT</td>\n",
       "      <td>33.9</td>\n",
       "      <td>2.1</td>\n",
       "      <td>4</td>\n",
       "      <td>2</td>\n",
       "      <td>32.00</td>\n",
       "    </tr>\n",
       "    <tr>\n",
       "      <th>2</th>\n",
       "      <td>32</td>\n",
       "      <td>Female</td>\n",
       "      <td>68.1</td>\n",
       "      <td>1.66</td>\n",
       "      <td>167</td>\n",
       "      <td>122</td>\n",
       "      <td>54</td>\n",
       "      <td>1.11</td>\n",
       "      <td>677.0</td>\n",
       "      <td>Cardio</td>\n",
       "      <td>33.4</td>\n",
       "      <td>2.3</td>\n",
       "      <td>4</td>\n",
       "      <td>2</td>\n",
       "      <td>24.71</td>\n",
       "    </tr>\n",
       "    <tr>\n",
       "      <th>3</th>\n",
       "      <td>25</td>\n",
       "      <td>Male</td>\n",
       "      <td>53.2</td>\n",
       "      <td>1.70</td>\n",
       "      <td>190</td>\n",
       "      <td>164</td>\n",
       "      <td>56</td>\n",
       "      <td>0.59</td>\n",
       "      <td>532.0</td>\n",
       "      <td>Strength</td>\n",
       "      <td>28.8</td>\n",
       "      <td>2.1</td>\n",
       "      <td>3</td>\n",
       "      <td>1</td>\n",
       "      <td>18.41</td>\n",
       "    </tr>\n",
       "    <tr>\n",
       "      <th>4</th>\n",
       "      <td>38</td>\n",
       "      <td>Male</td>\n",
       "      <td>46.1</td>\n",
       "      <td>1.79</td>\n",
       "      <td>188</td>\n",
       "      <td>158</td>\n",
       "      <td>68</td>\n",
       "      <td>0.64</td>\n",
       "      <td>556.0</td>\n",
       "      <td>Strength</td>\n",
       "      <td>29.2</td>\n",
       "      <td>2.8</td>\n",
       "      <td>3</td>\n",
       "      <td>1</td>\n",
       "      <td>14.39</td>\n",
       "    </tr>\n",
       "    <tr>\n",
       "      <th>...</th>\n",
       "      <td>...</td>\n",
       "      <td>...</td>\n",
       "      <td>...</td>\n",
       "      <td>...</td>\n",
       "      <td>...</td>\n",
       "      <td>...</td>\n",
       "      <td>...</td>\n",
       "      <td>...</td>\n",
       "      <td>...</td>\n",
       "      <td>...</td>\n",
       "      <td>...</td>\n",
       "      <td>...</td>\n",
       "      <td>...</td>\n",
       "      <td>...</td>\n",
       "      <td>...</td>\n",
       "    </tr>\n",
       "    <tr>\n",
       "      <th>968</th>\n",
       "      <td>24</td>\n",
       "      <td>Male</td>\n",
       "      <td>87.1</td>\n",
       "      <td>1.74</td>\n",
       "      <td>187</td>\n",
       "      <td>158</td>\n",
       "      <td>67</td>\n",
       "      <td>1.57</td>\n",
       "      <td>1364.0</td>\n",
       "      <td>Strength</td>\n",
       "      <td>10.0</td>\n",
       "      <td>3.5</td>\n",
       "      <td>4</td>\n",
       "      <td>3</td>\n",
       "      <td>28.77</td>\n",
       "    </tr>\n",
       "    <tr>\n",
       "      <th>969</th>\n",
       "      <td>25</td>\n",
       "      <td>Male</td>\n",
       "      <td>66.6</td>\n",
       "      <td>1.61</td>\n",
       "      <td>184</td>\n",
       "      <td>166</td>\n",
       "      <td>56</td>\n",
       "      <td>1.38</td>\n",
       "      <td>1260.0</td>\n",
       "      <td>Strength</td>\n",
       "      <td>25.0</td>\n",
       "      <td>3.0</td>\n",
       "      <td>2</td>\n",
       "      <td>1</td>\n",
       "      <td>25.69</td>\n",
       "    </tr>\n",
       "    <tr>\n",
       "      <th>970</th>\n",
       "      <td>59</td>\n",
       "      <td>Female</td>\n",
       "      <td>60.4</td>\n",
       "      <td>1.76</td>\n",
       "      <td>194</td>\n",
       "      <td>120</td>\n",
       "      <td>53</td>\n",
       "      <td>1.72</td>\n",
       "      <td>929.0</td>\n",
       "      <td>Cardio</td>\n",
       "      <td>18.8</td>\n",
       "      <td>2.7</td>\n",
       "      <td>5</td>\n",
       "      <td>3</td>\n",
       "      <td>19.50</td>\n",
       "    </tr>\n",
       "    <tr>\n",
       "      <th>971</th>\n",
       "      <td>32</td>\n",
       "      <td>Male</td>\n",
       "      <td>126.4</td>\n",
       "      <td>1.83</td>\n",
       "      <td>198</td>\n",
       "      <td>146</td>\n",
       "      <td>62</td>\n",
       "      <td>1.10</td>\n",
       "      <td>883.0</td>\n",
       "      <td>HIIT</td>\n",
       "      <td>28.2</td>\n",
       "      <td>2.1</td>\n",
       "      <td>3</td>\n",
       "      <td>2</td>\n",
       "      <td>37.74</td>\n",
       "    </tr>\n",
       "    <tr>\n",
       "      <th>972</th>\n",
       "      <td>46</td>\n",
       "      <td>Male</td>\n",
       "      <td>88.7</td>\n",
       "      <td>1.63</td>\n",
       "      <td>166</td>\n",
       "      <td>146</td>\n",
       "      <td>66</td>\n",
       "      <td>0.75</td>\n",
       "      <td>542.0</td>\n",
       "      <td>Strength</td>\n",
       "      <td>28.8</td>\n",
       "      <td>3.5</td>\n",
       "      <td>2</td>\n",
       "      <td>1</td>\n",
       "      <td>33.38</td>\n",
       "    </tr>\n",
       "  </tbody>\n",
       "</table>\n",
       "<p>973 rows × 15 columns</p>\n",
       "</div>"
      ],
      "text/plain": [
       "     Age  Gender  Weight (kg)  Height (m)  Max_BPM  Avg_BPM  Resting_BPM  \\\n",
       "0     56    Male         88.3        1.71      180      157           60   \n",
       "1     46  Female         74.9        1.53      179      151           66   \n",
       "2     32  Female         68.1        1.66      167      122           54   \n",
       "3     25    Male         53.2        1.70      190      164           56   \n",
       "4     38    Male         46.1        1.79      188      158           68   \n",
       "..   ...     ...          ...         ...      ...      ...          ...   \n",
       "968   24    Male         87.1        1.74      187      158           67   \n",
       "969   25    Male         66.6        1.61      184      166           56   \n",
       "970   59  Female         60.4        1.76      194      120           53   \n",
       "971   32    Male        126.4        1.83      198      146           62   \n",
       "972   46    Male         88.7        1.63      166      146           66   \n",
       "\n",
       "     Session_Duration (hours)  Calories_Burned Workout_Type  Fat_Percentage  \\\n",
       "0                        1.69           1313.0         Yoga            12.6   \n",
       "1                        1.30            883.0         HIIT            33.9   \n",
       "2                        1.11            677.0       Cardio            33.4   \n",
       "3                        0.59            532.0     Strength            28.8   \n",
       "4                        0.64            556.0     Strength            29.2   \n",
       "..                        ...              ...          ...             ...   \n",
       "968                      1.57           1364.0     Strength            10.0   \n",
       "969                      1.38           1260.0     Strength            25.0   \n",
       "970                      1.72            929.0       Cardio            18.8   \n",
       "971                      1.10            883.0         HIIT            28.2   \n",
       "972                      0.75            542.0     Strength            28.8   \n",
       "\n",
       "     Water_Intake (liters)  Workout_Frequency (days/week)  Experience_Level  \\\n",
       "0                      3.5                              4                 3   \n",
       "1                      2.1                              4                 2   \n",
       "2                      2.3                              4                 2   \n",
       "3                      2.1                              3                 1   \n",
       "4                      2.8                              3                 1   \n",
       "..                     ...                            ...               ...   \n",
       "968                    3.5                              4                 3   \n",
       "969                    3.0                              2                 1   \n",
       "970                    2.7                              5                 3   \n",
       "971                    2.1                              3                 2   \n",
       "972                    3.5                              2                 1   \n",
       "\n",
       "       BMI  \n",
       "0    30.20  \n",
       "1    32.00  \n",
       "2    24.71  \n",
       "3    18.41  \n",
       "4    14.39  \n",
       "..     ...  \n",
       "968  28.77  \n",
       "969  25.69  \n",
       "970  19.50  \n",
       "971  37.74  \n",
       "972  33.38  \n",
       "\n",
       "[973 rows x 15 columns]"
      ]
     },
     "execution_count": 2,
     "metadata": {},
     "output_type": "execute_result"
    }
   ],
   "source": [
    "import matplotlib.pyplot as plt\n",
    "from sklearn.preprocessing import MinMaxScaler\n",
    "from sklearn.metrics import classification_report,accuracy_score,confusion_matrix  \n",
    "from sklearn.neighbors import KNeighborsClassifier\n",
    "from sklearn.model_selection import train_test_split\n",
    "import seaborn as sns\n",
    "\n",
    "df = pd.read_csv('/kaggle/input/gym-members-exercise-dataset/gym_members_exercise_tracking.csv')\n",
    "df"
   ]
  },
  {
   "cell_type": "markdown",
   "id": "d382f92b",
   "metadata": {
    "papermill": {
     "duration": 0.006102,
     "end_time": "2024-11-24T12:27:01.986336",
     "exception": false,
     "start_time": "2024-11-24T12:27:01.980234",
     "status": "completed"
    },
    "tags": []
   },
   "source": [
    "1. Data Understanding"
   ]
  },
  {
   "cell_type": "code",
   "execution_count": 3,
   "id": "6e8b6377",
   "metadata": {
    "execution": {
     "iopub.execute_input": "2024-11-24T12:27:02.001309Z",
     "iopub.status.busy": "2024-11-24T12:27:02.000852Z",
     "iopub.status.idle": "2024-11-24T12:27:02.026585Z",
     "shell.execute_reply": "2024-11-24T12:27:02.025172Z"
    },
    "papermill": {
     "duration": 0.036479,
     "end_time": "2024-11-24T12:27:02.029226",
     "exception": false,
     "start_time": "2024-11-24T12:27:01.992747",
     "status": "completed"
    },
    "tags": []
   },
   "outputs": [
    {
     "name": "stdout",
     "output_type": "stream",
     "text": [
      "<class 'pandas.core.frame.DataFrame'>\n",
      "RangeIndex: 973 entries, 0 to 972\n",
      "Data columns (total 15 columns):\n",
      " #   Column                         Non-Null Count  Dtype  \n",
      "---  ------                         --------------  -----  \n",
      " 0   Age                            973 non-null    int64  \n",
      " 1   Gender                         973 non-null    object \n",
      " 2   Weight (kg)                    973 non-null    float64\n",
      " 3   Height (m)                     973 non-null    float64\n",
      " 4   Max_BPM                        973 non-null    int64  \n",
      " 5   Avg_BPM                        973 non-null    int64  \n",
      " 6   Resting_BPM                    973 non-null    int64  \n",
      " 7   Session_Duration (hours)       973 non-null    float64\n",
      " 8   Calories_Burned                973 non-null    float64\n",
      " 9   Workout_Type                   973 non-null    object \n",
      " 10  Fat_Percentage                 973 non-null    float64\n",
      " 11  Water_Intake (liters)          973 non-null    float64\n",
      " 12  Workout_Frequency (days/week)  973 non-null    int64  \n",
      " 13  Experience_Level               973 non-null    int64  \n",
      " 14  BMI                            973 non-null    float64\n",
      "dtypes: float64(7), int64(6), object(2)\n",
      "memory usage: 114.1+ KB\n"
     ]
    }
   ],
   "source": [
    "df.info()"
   ]
  },
  {
   "cell_type": "code",
   "execution_count": 4,
   "id": "141d0e0b",
   "metadata": {
    "execution": {
     "iopub.execute_input": "2024-11-24T12:27:02.046146Z",
     "iopub.status.busy": "2024-11-24T12:27:02.044934Z",
     "iopub.status.idle": "2024-11-24T12:27:02.051257Z",
     "shell.execute_reply": "2024-11-24T12:27:02.050045Z"
    },
    "papermill": {
     "duration": 0.01734,
     "end_time": "2024-11-24T12:27:02.054260",
     "exception": false,
     "start_time": "2024-11-24T12:27:02.036920",
     "status": "completed"
    },
    "tags": []
   },
   "outputs": [
    {
     "name": "stdout",
     "output_type": "stream",
     "text": [
      "Data shape :  (973, 15)\n"
     ]
    }
   ],
   "source": [
    "print('Data shape : ', df.shape)"
   ]
  },
  {
   "cell_type": "code",
   "execution_count": 5,
   "id": "8df3fdf3",
   "metadata": {
    "execution": {
     "iopub.execute_input": "2024-11-24T12:27:02.070375Z",
     "iopub.status.busy": "2024-11-24T12:27:02.069430Z",
     "iopub.status.idle": "2024-11-24T12:27:02.114147Z",
     "shell.execute_reply": "2024-11-24T12:27:02.112816Z"
    },
    "papermill": {
     "duration": 0.055156,
     "end_time": "2024-11-24T12:27:02.116276",
     "exception": false,
     "start_time": "2024-11-24T12:27:02.061120",
     "status": "completed"
    },
    "tags": []
   },
   "outputs": [
    {
     "data": {
      "text/html": [
       "<div>\n",
       "<style scoped>\n",
       "    .dataframe tbody tr th:only-of-type {\n",
       "        vertical-align: middle;\n",
       "    }\n",
       "\n",
       "    .dataframe tbody tr th {\n",
       "        vertical-align: top;\n",
       "    }\n",
       "\n",
       "    .dataframe thead th {\n",
       "        text-align: right;\n",
       "    }\n",
       "</style>\n",
       "<table border=\"1\" class=\"dataframe\">\n",
       "  <thead>\n",
       "    <tr style=\"text-align: right;\">\n",
       "      <th></th>\n",
       "      <th>Age</th>\n",
       "      <th>Weight (kg)</th>\n",
       "      <th>Height (m)</th>\n",
       "      <th>Max_BPM</th>\n",
       "      <th>Avg_BPM</th>\n",
       "      <th>Resting_BPM</th>\n",
       "      <th>Session_Duration (hours)</th>\n",
       "      <th>Calories_Burned</th>\n",
       "      <th>Fat_Percentage</th>\n",
       "      <th>Water_Intake (liters)</th>\n",
       "      <th>Workout_Frequency (days/week)</th>\n",
       "      <th>Experience_Level</th>\n",
       "      <th>BMI</th>\n",
       "    </tr>\n",
       "  </thead>\n",
       "  <tbody>\n",
       "    <tr>\n",
       "      <th>count</th>\n",
       "      <td>973.000000</td>\n",
       "      <td>973.000000</td>\n",
       "      <td>973.00000</td>\n",
       "      <td>973.000000</td>\n",
       "      <td>973.000000</td>\n",
       "      <td>973.000000</td>\n",
       "      <td>973.000000</td>\n",
       "      <td>973.000000</td>\n",
       "      <td>973.000000</td>\n",
       "      <td>973.000000</td>\n",
       "      <td>973.000000</td>\n",
       "      <td>973.000000</td>\n",
       "      <td>973.000000</td>\n",
       "    </tr>\n",
       "    <tr>\n",
       "      <th>mean</th>\n",
       "      <td>38.683453</td>\n",
       "      <td>73.854676</td>\n",
       "      <td>1.72258</td>\n",
       "      <td>179.883864</td>\n",
       "      <td>143.766701</td>\n",
       "      <td>62.223022</td>\n",
       "      <td>1.256423</td>\n",
       "      <td>905.422405</td>\n",
       "      <td>24.976773</td>\n",
       "      <td>2.626619</td>\n",
       "      <td>3.321686</td>\n",
       "      <td>1.809866</td>\n",
       "      <td>24.912127</td>\n",
       "    </tr>\n",
       "    <tr>\n",
       "      <th>std</th>\n",
       "      <td>12.180928</td>\n",
       "      <td>21.207500</td>\n",
       "      <td>0.12772</td>\n",
       "      <td>11.525686</td>\n",
       "      <td>14.345101</td>\n",
       "      <td>7.327060</td>\n",
       "      <td>0.343033</td>\n",
       "      <td>272.641516</td>\n",
       "      <td>6.259419</td>\n",
       "      <td>0.600172</td>\n",
       "      <td>0.913047</td>\n",
       "      <td>0.739693</td>\n",
       "      <td>6.660879</td>\n",
       "    </tr>\n",
       "    <tr>\n",
       "      <th>min</th>\n",
       "      <td>18.000000</td>\n",
       "      <td>40.000000</td>\n",
       "      <td>1.50000</td>\n",
       "      <td>160.000000</td>\n",
       "      <td>120.000000</td>\n",
       "      <td>50.000000</td>\n",
       "      <td>0.500000</td>\n",
       "      <td>303.000000</td>\n",
       "      <td>10.000000</td>\n",
       "      <td>1.500000</td>\n",
       "      <td>2.000000</td>\n",
       "      <td>1.000000</td>\n",
       "      <td>12.320000</td>\n",
       "    </tr>\n",
       "    <tr>\n",
       "      <th>25%</th>\n",
       "      <td>28.000000</td>\n",
       "      <td>58.100000</td>\n",
       "      <td>1.62000</td>\n",
       "      <td>170.000000</td>\n",
       "      <td>131.000000</td>\n",
       "      <td>56.000000</td>\n",
       "      <td>1.040000</td>\n",
       "      <td>720.000000</td>\n",
       "      <td>21.300000</td>\n",
       "      <td>2.200000</td>\n",
       "      <td>3.000000</td>\n",
       "      <td>1.000000</td>\n",
       "      <td>20.110000</td>\n",
       "    </tr>\n",
       "    <tr>\n",
       "      <th>50%</th>\n",
       "      <td>40.000000</td>\n",
       "      <td>70.000000</td>\n",
       "      <td>1.71000</td>\n",
       "      <td>180.000000</td>\n",
       "      <td>143.000000</td>\n",
       "      <td>62.000000</td>\n",
       "      <td>1.260000</td>\n",
       "      <td>893.000000</td>\n",
       "      <td>26.200000</td>\n",
       "      <td>2.600000</td>\n",
       "      <td>3.000000</td>\n",
       "      <td>2.000000</td>\n",
       "      <td>24.160000</td>\n",
       "    </tr>\n",
       "    <tr>\n",
       "      <th>75%</th>\n",
       "      <td>49.000000</td>\n",
       "      <td>86.000000</td>\n",
       "      <td>1.80000</td>\n",
       "      <td>190.000000</td>\n",
       "      <td>156.000000</td>\n",
       "      <td>68.000000</td>\n",
       "      <td>1.460000</td>\n",
       "      <td>1076.000000</td>\n",
       "      <td>29.300000</td>\n",
       "      <td>3.100000</td>\n",
       "      <td>4.000000</td>\n",
       "      <td>2.000000</td>\n",
       "      <td>28.560000</td>\n",
       "    </tr>\n",
       "    <tr>\n",
       "      <th>max</th>\n",
       "      <td>59.000000</td>\n",
       "      <td>129.900000</td>\n",
       "      <td>2.00000</td>\n",
       "      <td>199.000000</td>\n",
       "      <td>169.000000</td>\n",
       "      <td>74.000000</td>\n",
       "      <td>2.000000</td>\n",
       "      <td>1783.000000</td>\n",
       "      <td>35.000000</td>\n",
       "      <td>3.700000</td>\n",
       "      <td>5.000000</td>\n",
       "      <td>3.000000</td>\n",
       "      <td>49.840000</td>\n",
       "    </tr>\n",
       "  </tbody>\n",
       "</table>\n",
       "</div>"
      ],
      "text/plain": [
       "              Age  Weight (kg)  Height (m)     Max_BPM     Avg_BPM  \\\n",
       "count  973.000000   973.000000   973.00000  973.000000  973.000000   \n",
       "mean    38.683453    73.854676     1.72258  179.883864  143.766701   \n",
       "std     12.180928    21.207500     0.12772   11.525686   14.345101   \n",
       "min     18.000000    40.000000     1.50000  160.000000  120.000000   \n",
       "25%     28.000000    58.100000     1.62000  170.000000  131.000000   \n",
       "50%     40.000000    70.000000     1.71000  180.000000  143.000000   \n",
       "75%     49.000000    86.000000     1.80000  190.000000  156.000000   \n",
       "max     59.000000   129.900000     2.00000  199.000000  169.000000   \n",
       "\n",
       "       Resting_BPM  Session_Duration (hours)  Calories_Burned  Fat_Percentage  \\\n",
       "count   973.000000                973.000000       973.000000      973.000000   \n",
       "mean     62.223022                  1.256423       905.422405       24.976773   \n",
       "std       7.327060                  0.343033       272.641516        6.259419   \n",
       "min      50.000000                  0.500000       303.000000       10.000000   \n",
       "25%      56.000000                  1.040000       720.000000       21.300000   \n",
       "50%      62.000000                  1.260000       893.000000       26.200000   \n",
       "75%      68.000000                  1.460000      1076.000000       29.300000   \n",
       "max      74.000000                  2.000000      1783.000000       35.000000   \n",
       "\n",
       "       Water_Intake (liters)  Workout_Frequency (days/week)  Experience_Level  \\\n",
       "count             973.000000                     973.000000        973.000000   \n",
       "mean                2.626619                       3.321686          1.809866   \n",
       "std                 0.600172                       0.913047          0.739693   \n",
       "min                 1.500000                       2.000000          1.000000   \n",
       "25%                 2.200000                       3.000000          1.000000   \n",
       "50%                 2.600000                       3.000000          2.000000   \n",
       "75%                 3.100000                       4.000000          2.000000   \n",
       "max                 3.700000                       5.000000          3.000000   \n",
       "\n",
       "              BMI  \n",
       "count  973.000000  \n",
       "mean    24.912127  \n",
       "std      6.660879  \n",
       "min     12.320000  \n",
       "25%     20.110000  \n",
       "50%     24.160000  \n",
       "75%     28.560000  \n",
       "max     49.840000  "
      ]
     },
     "execution_count": 5,
     "metadata": {},
     "output_type": "execute_result"
    }
   ],
   "source": [
    "df.describe()"
   ]
  },
  {
   "cell_type": "code",
   "execution_count": 6,
   "id": "a5dcd715",
   "metadata": {
    "execution": {
     "iopub.execute_input": "2024-11-24T12:27:02.132143Z",
     "iopub.status.busy": "2024-11-24T12:27:02.131649Z",
     "iopub.status.idle": "2024-11-24T12:27:02.157162Z",
     "shell.execute_reply": "2024-11-24T12:27:02.156047Z"
    },
    "papermill": {
     "duration": 0.03593,
     "end_time": "2024-11-24T12:27:02.159206",
     "exception": false,
     "start_time": "2024-11-24T12:27:02.123276",
     "status": "completed"
    },
    "tags": []
   },
   "outputs": [
    {
     "data": {
      "text/html": [
       "<div>\n",
       "<style scoped>\n",
       "    .dataframe tbody tr th:only-of-type {\n",
       "        vertical-align: middle;\n",
       "    }\n",
       "\n",
       "    .dataframe tbody tr th {\n",
       "        vertical-align: top;\n",
       "    }\n",
       "\n",
       "    .dataframe thead th {\n",
       "        text-align: right;\n",
       "    }\n",
       "</style>\n",
       "<table border=\"1\" class=\"dataframe\">\n",
       "  <thead>\n",
       "    <tr style=\"text-align: right;\">\n",
       "      <th></th>\n",
       "      <th>Age</th>\n",
       "      <th>Gender</th>\n",
       "      <th>Weight_kg</th>\n",
       "      <th>Height_m</th>\n",
       "      <th>Max_BPM</th>\n",
       "      <th>Avg_BPM</th>\n",
       "      <th>Resting_BPM</th>\n",
       "      <th>Session_Duration_hours</th>\n",
       "      <th>Calories_Burned</th>\n",
       "      <th>Workout_Type</th>\n",
       "      <th>Fat_Percentage</th>\n",
       "      <th>Water_Intake_liters</th>\n",
       "      <th>Workout_Frequency_days/week</th>\n",
       "      <th>Experience_Level</th>\n",
       "      <th>BMI</th>\n",
       "    </tr>\n",
       "  </thead>\n",
       "  <tbody>\n",
       "    <tr>\n",
       "      <th>0</th>\n",
       "      <td>56</td>\n",
       "      <td>Male</td>\n",
       "      <td>88.3</td>\n",
       "      <td>1.71</td>\n",
       "      <td>180</td>\n",
       "      <td>157</td>\n",
       "      <td>60</td>\n",
       "      <td>1.69</td>\n",
       "      <td>1313.0</td>\n",
       "      <td>Yoga</td>\n",
       "      <td>12.6</td>\n",
       "      <td>3.5</td>\n",
       "      <td>4</td>\n",
       "      <td>3</td>\n",
       "      <td>30.20</td>\n",
       "    </tr>\n",
       "    <tr>\n",
       "      <th>1</th>\n",
       "      <td>46</td>\n",
       "      <td>Female</td>\n",
       "      <td>74.9</td>\n",
       "      <td>1.53</td>\n",
       "      <td>179</td>\n",
       "      <td>151</td>\n",
       "      <td>66</td>\n",
       "      <td>1.30</td>\n",
       "      <td>883.0</td>\n",
       "      <td>HIIT</td>\n",
       "      <td>33.9</td>\n",
       "      <td>2.1</td>\n",
       "      <td>4</td>\n",
       "      <td>2</td>\n",
       "      <td>32.00</td>\n",
       "    </tr>\n",
       "    <tr>\n",
       "      <th>2</th>\n",
       "      <td>32</td>\n",
       "      <td>Female</td>\n",
       "      <td>68.1</td>\n",
       "      <td>1.66</td>\n",
       "      <td>167</td>\n",
       "      <td>122</td>\n",
       "      <td>54</td>\n",
       "      <td>1.11</td>\n",
       "      <td>677.0</td>\n",
       "      <td>Cardio</td>\n",
       "      <td>33.4</td>\n",
       "      <td>2.3</td>\n",
       "      <td>4</td>\n",
       "      <td>2</td>\n",
       "      <td>24.71</td>\n",
       "    </tr>\n",
       "    <tr>\n",
       "      <th>3</th>\n",
       "      <td>25</td>\n",
       "      <td>Male</td>\n",
       "      <td>53.2</td>\n",
       "      <td>1.70</td>\n",
       "      <td>190</td>\n",
       "      <td>164</td>\n",
       "      <td>56</td>\n",
       "      <td>0.59</td>\n",
       "      <td>532.0</td>\n",
       "      <td>Strength</td>\n",
       "      <td>28.8</td>\n",
       "      <td>2.1</td>\n",
       "      <td>3</td>\n",
       "      <td>1</td>\n",
       "      <td>18.41</td>\n",
       "    </tr>\n",
       "    <tr>\n",
       "      <th>4</th>\n",
       "      <td>38</td>\n",
       "      <td>Male</td>\n",
       "      <td>46.1</td>\n",
       "      <td>1.79</td>\n",
       "      <td>188</td>\n",
       "      <td>158</td>\n",
       "      <td>68</td>\n",
       "      <td>0.64</td>\n",
       "      <td>556.0</td>\n",
       "      <td>Strength</td>\n",
       "      <td>29.2</td>\n",
       "      <td>2.8</td>\n",
       "      <td>3</td>\n",
       "      <td>1</td>\n",
       "      <td>14.39</td>\n",
       "    </tr>\n",
       "    <tr>\n",
       "      <th>...</th>\n",
       "      <td>...</td>\n",
       "      <td>...</td>\n",
       "      <td>...</td>\n",
       "      <td>...</td>\n",
       "      <td>...</td>\n",
       "      <td>...</td>\n",
       "      <td>...</td>\n",
       "      <td>...</td>\n",
       "      <td>...</td>\n",
       "      <td>...</td>\n",
       "      <td>...</td>\n",
       "      <td>...</td>\n",
       "      <td>...</td>\n",
       "      <td>...</td>\n",
       "      <td>...</td>\n",
       "    </tr>\n",
       "    <tr>\n",
       "      <th>968</th>\n",
       "      <td>24</td>\n",
       "      <td>Male</td>\n",
       "      <td>87.1</td>\n",
       "      <td>1.74</td>\n",
       "      <td>187</td>\n",
       "      <td>158</td>\n",
       "      <td>67</td>\n",
       "      <td>1.57</td>\n",
       "      <td>1364.0</td>\n",
       "      <td>Strength</td>\n",
       "      <td>10.0</td>\n",
       "      <td>3.5</td>\n",
       "      <td>4</td>\n",
       "      <td>3</td>\n",
       "      <td>28.77</td>\n",
       "    </tr>\n",
       "    <tr>\n",
       "      <th>969</th>\n",
       "      <td>25</td>\n",
       "      <td>Male</td>\n",
       "      <td>66.6</td>\n",
       "      <td>1.61</td>\n",
       "      <td>184</td>\n",
       "      <td>166</td>\n",
       "      <td>56</td>\n",
       "      <td>1.38</td>\n",
       "      <td>1260.0</td>\n",
       "      <td>Strength</td>\n",
       "      <td>25.0</td>\n",
       "      <td>3.0</td>\n",
       "      <td>2</td>\n",
       "      <td>1</td>\n",
       "      <td>25.69</td>\n",
       "    </tr>\n",
       "    <tr>\n",
       "      <th>970</th>\n",
       "      <td>59</td>\n",
       "      <td>Female</td>\n",
       "      <td>60.4</td>\n",
       "      <td>1.76</td>\n",
       "      <td>194</td>\n",
       "      <td>120</td>\n",
       "      <td>53</td>\n",
       "      <td>1.72</td>\n",
       "      <td>929.0</td>\n",
       "      <td>Cardio</td>\n",
       "      <td>18.8</td>\n",
       "      <td>2.7</td>\n",
       "      <td>5</td>\n",
       "      <td>3</td>\n",
       "      <td>19.50</td>\n",
       "    </tr>\n",
       "    <tr>\n",
       "      <th>971</th>\n",
       "      <td>32</td>\n",
       "      <td>Male</td>\n",
       "      <td>126.4</td>\n",
       "      <td>1.83</td>\n",
       "      <td>198</td>\n",
       "      <td>146</td>\n",
       "      <td>62</td>\n",
       "      <td>1.10</td>\n",
       "      <td>883.0</td>\n",
       "      <td>HIIT</td>\n",
       "      <td>28.2</td>\n",
       "      <td>2.1</td>\n",
       "      <td>3</td>\n",
       "      <td>2</td>\n",
       "      <td>37.74</td>\n",
       "    </tr>\n",
       "    <tr>\n",
       "      <th>972</th>\n",
       "      <td>46</td>\n",
       "      <td>Male</td>\n",
       "      <td>88.7</td>\n",
       "      <td>1.63</td>\n",
       "      <td>166</td>\n",
       "      <td>146</td>\n",
       "      <td>66</td>\n",
       "      <td>0.75</td>\n",
       "      <td>542.0</td>\n",
       "      <td>Strength</td>\n",
       "      <td>28.8</td>\n",
       "      <td>3.5</td>\n",
       "      <td>2</td>\n",
       "      <td>1</td>\n",
       "      <td>33.38</td>\n",
       "    </tr>\n",
       "  </tbody>\n",
       "</table>\n",
       "<p>973 rows × 15 columns</p>\n",
       "</div>"
      ],
      "text/plain": [
       "     Age  Gender  Weight_kg  Height_m  Max_BPM  Avg_BPM  Resting_BPM  \\\n",
       "0     56    Male       88.3      1.71      180      157           60   \n",
       "1     46  Female       74.9      1.53      179      151           66   \n",
       "2     32  Female       68.1      1.66      167      122           54   \n",
       "3     25    Male       53.2      1.70      190      164           56   \n",
       "4     38    Male       46.1      1.79      188      158           68   \n",
       "..   ...     ...        ...       ...      ...      ...          ...   \n",
       "968   24    Male       87.1      1.74      187      158           67   \n",
       "969   25    Male       66.6      1.61      184      166           56   \n",
       "970   59  Female       60.4      1.76      194      120           53   \n",
       "971   32    Male      126.4      1.83      198      146           62   \n",
       "972   46    Male       88.7      1.63      166      146           66   \n",
       "\n",
       "     Session_Duration_hours  Calories_Burned Workout_Type  Fat_Percentage  \\\n",
       "0                      1.69           1313.0         Yoga            12.6   \n",
       "1                      1.30            883.0         HIIT            33.9   \n",
       "2                      1.11            677.0       Cardio            33.4   \n",
       "3                      0.59            532.0     Strength            28.8   \n",
       "4                      0.64            556.0     Strength            29.2   \n",
       "..                      ...              ...          ...             ...   \n",
       "968                    1.57           1364.0     Strength            10.0   \n",
       "969                    1.38           1260.0     Strength            25.0   \n",
       "970                    1.72            929.0       Cardio            18.8   \n",
       "971                    1.10            883.0         HIIT            28.2   \n",
       "972                    0.75            542.0     Strength            28.8   \n",
       "\n",
       "     Water_Intake_liters  Workout_Frequency_days/week  Experience_Level    BMI  \n",
       "0                    3.5                            4                 3  30.20  \n",
       "1                    2.1                            4                 2  32.00  \n",
       "2                    2.3                            4                 2  24.71  \n",
       "3                    2.1                            3                 1  18.41  \n",
       "4                    2.8                            3                 1  14.39  \n",
       "..                   ...                          ...               ...    ...  \n",
       "968                  3.5                            4                 3  28.77  \n",
       "969                  3.0                            2                 1  25.69  \n",
       "970                  2.7                            5                 3  19.50  \n",
       "971                  2.1                            3                 2  37.74  \n",
       "972                  3.5                            2                 1  33.38  \n",
       "\n",
       "[973 rows x 15 columns]"
      ]
     },
     "execution_count": 6,
     "metadata": {},
     "output_type": "execute_result"
    }
   ],
   "source": [
    "df.rename(columns=lambda x: x.replace('(', '').replace(')', ''), inplace=True)\n",
    "df.columns = df.columns.str.strip().str.replace(' ', '_')\n",
    "\n",
    "df"
   ]
  },
  {
   "cell_type": "code",
   "execution_count": 7,
   "id": "9fcb7396",
   "metadata": {
    "execution": {
     "iopub.execute_input": "2024-11-24T12:27:02.176071Z",
     "iopub.status.busy": "2024-11-24T12:27:02.175206Z",
     "iopub.status.idle": "2024-11-24T12:27:02.184610Z",
     "shell.execute_reply": "2024-11-24T12:27:02.183583Z"
    },
    "papermill": {
     "duration": 0.019879,
     "end_time": "2024-11-24T12:27:02.186547",
     "exception": false,
     "start_time": "2024-11-24T12:27:02.166668",
     "status": "completed"
    },
    "tags": []
   },
   "outputs": [
    {
     "data": {
      "text/plain": [
       "Workout_Type\n",
       "Strength    258\n",
       "Cardio      255\n",
       "Yoga        239\n",
       "HIIT        221\n",
       "Name: count, dtype: int64"
      ]
     },
     "execution_count": 7,
     "metadata": {},
     "output_type": "execute_result"
    }
   ],
   "source": [
    "df.Workout_Type.value_counts()"
   ]
  },
  {
   "cell_type": "code",
   "execution_count": 8,
   "id": "326bbce9",
   "metadata": {
    "execution": {
     "iopub.execute_input": "2024-11-24T12:27:02.203987Z",
     "iopub.status.busy": "2024-11-24T12:27:02.202758Z",
     "iopub.status.idle": "2024-11-24T12:27:02.214318Z",
     "shell.execute_reply": "2024-11-24T12:27:02.212967Z"
    },
    "papermill": {
     "duration": 0.023089,
     "end_time": "2024-11-24T12:27:02.216952",
     "exception": false,
     "start_time": "2024-11-24T12:27:02.193863",
     "status": "completed"
    },
    "tags": []
   },
   "outputs": [
    {
     "data": {
      "text/plain": [
       "Experience_Level\n",
       "2    406\n",
       "1    376\n",
       "3    191\n",
       "Name: count, dtype: int64"
      ]
     },
     "execution_count": 8,
     "metadata": {},
     "output_type": "execute_result"
    }
   ],
   "source": [
    "df.Experience_Level.value_counts()"
   ]
  },
  {
   "cell_type": "code",
   "execution_count": 9,
   "id": "c7312cc3",
   "metadata": {
    "execution": {
     "iopub.execute_input": "2024-11-24T12:27:02.234947Z",
     "iopub.status.busy": "2024-11-24T12:27:02.233511Z",
     "iopub.status.idle": "2024-11-24T12:27:02.467452Z",
     "shell.execute_reply": "2024-11-24T12:27:02.466249Z"
    },
    "papermill": {
     "duration": 0.246427,
     "end_time": "2024-11-24T12:27:02.470886",
     "exception": false,
     "start_time": "2024-11-24T12:27:02.224459",
     "status": "completed"
    },
    "tags": []
   },
   "outputs": [
    {
     "name": "stderr",
     "output_type": "stream",
     "text": [
      "/opt/conda/lib/python3.10/site-packages/seaborn/_oldcore.py:1119: FutureWarning: use_inf_as_na option is deprecated and will be removed in a future version. Convert inf values to NaN before operating instead.\n",
      "  with pd.option_context('mode.use_inf_as_na', True):\n"
     ]
    },
    {
     "data": {
      "text/plain": [
       "<Axes: xlabel='Workout_Type', ylabel='Count'>"
      ]
     },
     "execution_count": 9,
     "metadata": {},
     "output_type": "execute_result"
    },
    {
     "data": {
      "image/png": "[encoded data removed]",
      "text/plain": [
       "<Figure size 640x480 with 1 Axes>"
      ]
     },
     "metadata": {},
     "output_type": "display_data"
    }
   ],
   "source": [
    "sns.histplot(df['Workout_Type'])"
   ]
  },
  {
   "cell_type": "code",
   "execution_count": 10,
   "id": "206c25de",
   "metadata": {
    "execution": {
     "iopub.execute_input": "2024-11-24T12:27:02.489416Z",
     "iopub.status.busy": "2024-11-24T12:27:02.489044Z",
     "iopub.status.idle": "2024-11-24T12:27:02.748220Z",
     "shell.execute_reply": "2024-11-24T12:27:02.746926Z"
    },
    "papermill": {
     "duration": 0.271119,
     "end_time": "2024-11-24T12:27:02.750870",
     "exception": false,
     "start_time": "2024-11-24T12:27:02.479751",
     "status": "completed"
    },
    "tags": []
   },
   "outputs": [
    {
     "name": "stderr",
     "output_type": "stream",
     "text": [
      "/opt/conda/lib/python3.10/site-packages/seaborn/_oldcore.py:1119: FutureWarning: use_inf_as_na option is deprecated and will be removed in a future version. Convert inf values to NaN before operating instead.\n",
      "  with pd.option_context('mode.use_inf_as_na', True):\n"
     ]
    },
    {
     "data": {
      "text/plain": [
       "<Axes: xlabel='Experience_Level', ylabel='Count'>"
      ]
     },
     "execution_count": 10,
     "metadata": {},
     "output_type": "execute_result"
    },
    {
     "data": {
      "image/png": "[encoded data removed]",
      "text/plain": [
       "<Figure size 640x480 with 1 Axes>"
      ]
     },
     "metadata": {},
     "output_type": "display_data"
    }
   ],
   "source": [
    "sns.histplot(df['Experience_Level'])"
   ]
  },
  {
   "cell_type": "markdown",
   "id": "e5de50b9",
   "metadata": {
    "papermill": {
     "duration": 0.008239,
     "end_time": "2024-11-24T12:27:02.768286",
     "exception": false,
     "start_time": "2024-11-24T12:27:02.760047",
     "status": "completed"
    },
    "tags": []
   },
   "source": [
    "2. Cleaning Data / Preprocessing Data "
   ]
  },
  {
   "cell_type": "code",
   "execution_count": 11,
   "id": "ea6155ec",
   "metadata": {
    "execution": {
     "iopub.execute_input": "2024-11-24T12:27:02.787262Z",
     "iopub.status.busy": "2024-11-24T12:27:02.786867Z",
     "iopub.status.idle": "2024-11-24T12:27:02.796767Z",
     "shell.execute_reply": "2024-11-24T12:27:02.795544Z"
    },
    "papermill": {
     "duration": 0.02264,
     "end_time": "2024-11-24T12:27:02.799281",
     "exception": false,
     "start_time": "2024-11-24T12:27:02.776641",
     "status": "completed"
    },
    "tags": []
   },
   "outputs": [
    {
     "data": {
      "text/plain": [
       "Age                            0\n",
       "Gender                         0\n",
       "Weight_kg                      0\n",
       "Height_m                       0\n",
       "Max_BPM                        0\n",
       "Avg_BPM                        0\n",
       "Resting_BPM                    0\n",
       "Session_Duration_hours         0\n",
       "Calories_Burned                0\n",
       "Workout_Type                   0\n",
       "Fat_Percentage                 0\n",
       "Water_Intake_liters            0\n",
       "Workout_Frequency_days/week    0\n",
       "Experience_Level               0\n",
       "BMI                            0\n",
       "dtype: int64"
      ]
     },
     "execution_count": 11,
     "metadata": {},
     "output_type": "execute_result"
    }
   ],
   "source": [
    "df.isnull().sum()"
   ]
  },
  {
   "cell_type": "code",
   "execution_count": 12,
   "id": "031473c2",
   "metadata": {
    "execution": {
     "iopub.execute_input": "2024-11-24T12:27:02.818521Z",
     "iopub.status.busy": "2024-11-24T12:27:02.818046Z",
     "iopub.status.idle": "2024-11-24T12:27:02.829493Z",
     "shell.execute_reply": "2024-11-24T12:27:02.828138Z"
    },
    "papermill": {
     "duration": 0.023805,
     "end_time": "2024-11-24T12:27:02.831856",
     "exception": false,
     "start_time": "2024-11-24T12:27:02.808051",
     "status": "completed"
    },
    "tags": []
   },
   "outputs": [
    {
     "data": {
      "text/plain": [
       "0"
      ]
     },
     "execution_count": 12,
     "metadata": {},
     "output_type": "execute_result"
    }
   ],
   "source": [
    "df.duplicated().sum()"
   ]
  },
  {
   "cell_type": "markdown",
   "id": "fa84eb26",
   "metadata": {
    "papermill": {
     "duration": 0.00821,
     "end_time": "2024-11-24T12:27:02.848579",
     "exception": false,
     "start_time": "2024-11-24T12:27:02.840369",
     "status": "completed"
    },
    "tags": []
   },
   "source": [
    "3. Exploratory Data Analition"
   ]
  },
  {
   "cell_type": "code",
   "execution_count": 13,
   "id": "b61ec95b",
   "metadata": {
    "execution": {
     "iopub.execute_input": "2024-11-24T12:27:02.867678Z",
     "iopub.status.busy": "2024-11-24T12:27:02.867218Z",
     "iopub.status.idle": "2024-11-24T12:27:03.188361Z",
     "shell.execute_reply": "2024-11-24T12:27:03.187088Z"
    },
    "papermill": {
     "duration": 0.333428,
     "end_time": "2024-11-24T12:27:03.190510",
     "exception": false,
     "start_time": "2024-11-24T12:27:02.857082",
     "status": "completed"
    },
    "tags": []
   },
   "outputs": [
    {
     "data": {
      "text/plain": [
       "<function matplotlib.pyplot.show(close=None, block=None)>"
      ]
     },
     "execution_count": 13,
     "metadata": {},
     "output_type": "execute_result"
    },
    {
     "data": {
      "image/png": "[encoded data removed]",
      "text/plain": [
       "<Figure size 640x480 with 1 Axes>"
      ]
     },
     "metadata": {},
     "output_type": "display_data"
    }
   ],
   "source": [
    "sns.set_theme(style='whitegrid', context='poster', palette='pastel')\n",
    "sns.countplot(data=df, y='Workout_Type',palette= 'coolwarm')\n",
    "plt.ylabel('Tipe Olahraga')\n",
    "plt.xlabel('Jumlah Pengguna')\n",
    "plt.title('Total penggunaan tipe olahraga')\n",
    "plt.show"
   ]
  },
  {
   "cell_type": "code",
   "execution_count": 14,
   "id": "5757749b",
   "metadata": {
    "execution": {
     "iopub.execute_input": "2024-11-24T12:27:03.212258Z",
     "iopub.status.busy": "2024-11-24T12:27:03.210967Z",
     "iopub.status.idle": "2024-11-24T12:27:03.452217Z",
     "shell.execute_reply": "2024-11-24T12:27:03.450981Z"
    },
    "papermill": {
     "duration": 0.254171,
     "end_time": "2024-11-24T12:27:03.454553",
     "exception": false,
     "start_time": "2024-11-24T12:27:03.200382",
     "status": "completed"
    },
    "tags": []
   },
   "outputs": [
    {
     "data": {
      "text/plain": [
       "Text(0.5, 1.0, 'Total level olahraga pengguna')"
      ]
     },
     "execution_count": 14,
     "metadata": {},
     "output_type": "execute_result"
    },
    {
     "data": {
      "image/png": "[encoded data removed]",
      "text/plain": [
       "<Figure size 640x480 with 1 Axes>"
      ]
     },
     "metadata": {},
     "output_type": "display_data"
    }
   ],
   "source": [
    "sns.set_theme(style='ticks', context='talk', palette='muted')\n",
    "sns.countplot(data=df, y='Experience_Level',palette= 'rocket')\n",
    "plt.ylabel('Level Olahraga')\n",
    "plt.xlabel('Jumlah Pengguna')\n",
    "plt.title('Total level olahraga pengguna')\n"
   ]
  },
  {
   "cell_type": "code",
   "execution_count": 15,
   "id": "34846e11",
   "metadata": {
    "execution": {
     "iopub.execute_input": "2024-11-24T12:27:03.478960Z",
     "iopub.status.busy": "2024-11-24T12:27:03.478465Z",
     "iopub.status.idle": "2024-11-24T12:27:03.799608Z",
     "shell.execute_reply": "2024-11-24T12:27:03.798218Z"
    },
    "papermill": {
     "duration": 0.337043,
     "end_time": "2024-11-24T12:27:03.802158",
     "exception": false,
     "start_time": "2024-11-24T12:27:03.465115",
     "status": "completed"
    },
    "tags": []
   },
   "outputs": [
    {
     "data": {
      "text/plain": [
       "Text(0.5, 1.0, 'Tingkatan level olahraga sesuai tipe olahraga')"
      ]
     },
     "execution_count": 15,
     "metadata": {},
     "output_type": "execute_result"
    },
    {
     "data": {
      "image/png": "[encoded data removed]",
      "text/plain": [
       "<Figure size 640x480 with 1 Axes>"
      ]
     },
     "metadata": {},
     "output_type": "display_data"
    }
   ],
   "source": [
    "sns.set_theme(style='ticks', context='talk', palette='muted')\n",
    "sns.pointplot(data=df, x='Workout_Type',  y='Experience_Level',palette= 'rocket')\n",
    "plt.ylabel('Level Olahraga')\n",
    "plt.xlabel('Tipe Olahraga')\n",
    "plt.title('Tingkatan level olahraga sesuai tipe olahraga')"
   ]
  },
  {
   "cell_type": "markdown",
   "id": "653cf5bc",
   "metadata": {
    "papermill": {
     "duration": 0.010406,
     "end_time": "2024-11-24T12:27:03.823669",
     "exception": false,
     "start_time": "2024-11-24T12:27:03.813263",
     "status": "completed"
    },
    "tags": []
   },
   "source": [
    "4. Data Preparation"
   ]
  },
  {
   "cell_type": "code",
   "execution_count": 16,
   "id": "f1a479d3",
   "metadata": {
    "execution": {
     "iopub.execute_input": "2024-11-24T12:27:03.846862Z",
     "iopub.status.busy": "2024-11-24T12:27:03.846393Z",
     "iopub.status.idle": "2024-11-24T12:27:03.866099Z",
     "shell.execute_reply": "2024-11-24T12:27:03.864831Z"
    },
    "papermill": {
     "duration": 0.034373,
     "end_time": "2024-11-24T12:27:03.868595",
     "exception": false,
     "start_time": "2024-11-24T12:27:03.834222",
     "status": "completed"
    },
    "tags": []
   },
   "outputs": [
    {
     "data": {
      "text/html": [
       "<div>\n",
       "<style scoped>\n",
       "    .dataframe tbody tr th:only-of-type {\n",
       "        vertical-align: middle;\n",
       "    }\n",
       "\n",
       "    .dataframe tbody tr th {\n",
       "        vertical-align: top;\n",
       "    }\n",
       "\n",
       "    .dataframe thead th {\n",
       "        text-align: right;\n",
       "    }\n",
       "</style>\n",
       "<table border=\"1\" class=\"dataframe\">\n",
       "  <thead>\n",
       "    <tr style=\"text-align: right;\">\n",
       "      <th></th>\n",
       "      <th>Age</th>\n",
       "      <th>Gender</th>\n",
       "      <th>Weight_kg</th>\n",
       "      <th>Height_m</th>\n",
       "      <th>Max_BPM</th>\n",
       "      <th>Avg_BPM</th>\n",
       "      <th>Resting_BPM</th>\n",
       "      <th>Session_Duration_hours</th>\n",
       "      <th>Calories_Burned</th>\n",
       "      <th>Workout_Type</th>\n",
       "      <th>Fat_Percentage</th>\n",
       "      <th>Water_Intake_liters</th>\n",
       "      <th>Workout_Frequency_days/week</th>\n",
       "      <th>Experience_Level</th>\n",
       "      <th>BMI</th>\n",
       "    </tr>\n",
       "  </thead>\n",
       "  <tbody>\n",
       "    <tr>\n",
       "      <th>0</th>\n",
       "      <td>56</td>\n",
       "      <td>Male</td>\n",
       "      <td>88.3</td>\n",
       "      <td>1.71</td>\n",
       "      <td>180</td>\n",
       "      <td>157</td>\n",
       "      <td>60</td>\n",
       "      <td>1.69</td>\n",
       "      <td>1313.0</td>\n",
       "      <td>Yoga</td>\n",
       "      <td>12.6</td>\n",
       "      <td>3.5</td>\n",
       "      <td>4</td>\n",
       "      <td>3</td>\n",
       "      <td>30.20</td>\n",
       "    </tr>\n",
       "    <tr>\n",
       "      <th>1</th>\n",
       "      <td>46</td>\n",
       "      <td>Female</td>\n",
       "      <td>74.9</td>\n",
       "      <td>1.53</td>\n",
       "      <td>179</td>\n",
       "      <td>151</td>\n",
       "      <td>66</td>\n",
       "      <td>1.30</td>\n",
       "      <td>883.0</td>\n",
       "      <td>HIIT</td>\n",
       "      <td>33.9</td>\n",
       "      <td>2.1</td>\n",
       "      <td>4</td>\n",
       "      <td>2</td>\n",
       "      <td>32.00</td>\n",
       "    </tr>\n",
       "    <tr>\n",
       "      <th>2</th>\n",
       "      <td>32</td>\n",
       "      <td>Female</td>\n",
       "      <td>68.1</td>\n",
       "      <td>1.66</td>\n",
       "      <td>167</td>\n",
       "      <td>122</td>\n",
       "      <td>54</td>\n",
       "      <td>1.11</td>\n",
       "      <td>677.0</td>\n",
       "      <td>Cardio</td>\n",
       "      <td>33.4</td>\n",
       "      <td>2.3</td>\n",
       "      <td>4</td>\n",
       "      <td>2</td>\n",
       "      <td>24.71</td>\n",
       "    </tr>\n",
       "    <tr>\n",
       "      <th>3</th>\n",
       "      <td>25</td>\n",
       "      <td>Male</td>\n",
       "      <td>53.2</td>\n",
       "      <td>1.70</td>\n",
       "      <td>190</td>\n",
       "      <td>164</td>\n",
       "      <td>56</td>\n",
       "      <td>0.59</td>\n",
       "      <td>532.0</td>\n",
       "      <td>Strength</td>\n",
       "      <td>28.8</td>\n",
       "      <td>2.1</td>\n",
       "      <td>3</td>\n",
       "      <td>1</td>\n",
       "      <td>18.41</td>\n",
       "    </tr>\n",
       "    <tr>\n",
       "      <th>4</th>\n",
       "      <td>38</td>\n",
       "      <td>Male</td>\n",
       "      <td>46.1</td>\n",
       "      <td>1.79</td>\n",
       "      <td>188</td>\n",
       "      <td>158</td>\n",
       "      <td>68</td>\n",
       "      <td>0.64</td>\n",
       "      <td>556.0</td>\n",
       "      <td>Strength</td>\n",
       "      <td>29.2</td>\n",
       "      <td>2.8</td>\n",
       "      <td>3</td>\n",
       "      <td>1</td>\n",
       "      <td>14.39</td>\n",
       "    </tr>\n",
       "  </tbody>\n",
       "</table>\n",
       "</div>"
      ],
      "text/plain": [
       "   Age  Gender  Weight_kg  Height_m  Max_BPM  Avg_BPM  Resting_BPM  \\\n",
       "0   56    Male       88.3      1.71      180      157           60   \n",
       "1   46  Female       74.9      1.53      179      151           66   \n",
       "2   32  Female       68.1      1.66      167      122           54   \n",
       "3   25    Male       53.2      1.70      190      164           56   \n",
       "4   38    Male       46.1      1.79      188      158           68   \n",
       "\n",
       "   Session_Duration_hours  Calories_Burned Workout_Type  Fat_Percentage  \\\n",
       "0                    1.69           1313.0         Yoga            12.6   \n",
       "1                    1.30            883.0         HIIT            33.9   \n",
       "2                    1.11            677.0       Cardio            33.4   \n",
       "3                    0.59            532.0     Strength            28.8   \n",
       "4                    0.64            556.0     Strength            29.2   \n",
       "\n",
       "   Water_Intake_liters  Workout_Frequency_days/week  Experience_Level    BMI  \n",
       "0                  3.5                            4                 3  30.20  \n",
       "1                  2.1                            4                 2  32.00  \n",
       "2                  2.3                            4                 2  24.71  \n",
       "3                  2.1                            3                 1  18.41  \n",
       "4                  2.8                            3                 1  14.39  "
      ]
     },
     "execution_count": 16,
     "metadata": {},
     "output_type": "execute_result"
    }
   ],
   "source": [
    "df.head()"
   ]
  },
  {
   "cell_type": "code",
   "execution_count": 17,
   "id": "c4a962f3",
   "metadata": {
    "execution": {
     "iopub.execute_input": "2024-11-24T12:27:03.893920Z",
     "iopub.status.busy": "2024-11-24T12:27:03.893022Z",
     "iopub.status.idle": "2024-11-24T12:27:03.905342Z",
     "shell.execute_reply": "2024-11-24T12:27:03.903961Z"
    },
    "papermill": {
     "duration": 0.027468,
     "end_time": "2024-11-24T12:27:03.907525",
     "exception": false,
     "start_time": "2024-11-24T12:27:03.880057",
     "status": "completed"
    },
    "tags": []
   },
   "outputs": [
    {
     "name": "stdout",
     "output_type": "stream",
     "text": [
      "<class 'pandas.core.frame.DataFrame'>\n",
      "RangeIndex: 973 entries, 0 to 972\n",
      "Data columns (total 15 columns):\n",
      " #   Column                       Non-Null Count  Dtype  \n",
      "---  ------                       --------------  -----  \n",
      " 0   Age                          973 non-null    int64  \n",
      " 1   Gender                       973 non-null    object \n",
      " 2   Weight_kg                    973 non-null    float64\n",
      " 3   Height_m                     973 non-null    float64\n",
      " 4   Max_BPM                      973 non-null    int64  \n",
      " 5   Avg_BPM                      973 non-null    int64  \n",
      " 6   Resting_BPM                  973 non-null    int64  \n",
      " 7   Session_Duration_hours       973 non-null    float64\n",
      " 8   Calories_Burned              973 non-null    float64\n",
      " 9   Workout_Type                 973 non-null    object \n",
      " 10  Fat_Percentage               973 non-null    float64\n",
      " 11  Water_Intake_liters          973 non-null    float64\n",
      " 12  Workout_Frequency_days/week  973 non-null    int64  \n",
      " 13  Experience_Level             973 non-null    int64  \n",
      " 14  BMI                          973 non-null    float64\n",
      "dtypes: float64(7), int64(6), object(2)\n",
      "memory usage: 114.1+ KB\n"
     ]
    }
   ],
   "source": [
    "df.info()"
   ]
  },
  {
   "cell_type": "code",
   "execution_count": 18,
   "id": "d8353b57",
   "metadata": {
    "execution": {
     "iopub.execute_input": "2024-11-24T12:27:03.932346Z",
     "iopub.status.busy": "2024-11-24T12:27:03.930883Z",
     "iopub.status.idle": "2024-11-24T12:27:03.939976Z",
     "shell.execute_reply": "2024-11-24T12:27:03.938509Z"
    },
    "papermill": {
     "duration": 0.024059,
     "end_time": "2024-11-24T12:27:03.942496",
     "exception": false,
     "start_time": "2024-11-24T12:27:03.918437",
     "status": "completed"
    },
    "tags": []
   },
   "outputs": [],
   "source": [
    "from sklearn.preprocessing import LabelEncoder\n",
    "\n",
    "label_encoder = LabelEncoder()\n",
    "\n",
    "df['Gender'] = label_encoder.fit_transform(df['Gender'])\n",
    "df['Workout_Type'] = label_encoder.fit_transform(df['Workout_Type'])"
   ]
  },
  {
   "cell_type": "code",
   "execution_count": 19,
   "id": "9e908c1c",
   "metadata": {
    "execution": {
     "iopub.execute_input": "2024-11-24T12:27:03.966944Z",
     "iopub.status.busy": "2024-11-24T12:27:03.966005Z",
     "iopub.status.idle": "2024-11-24T12:27:03.984425Z",
     "shell.execute_reply": "2024-11-24T12:27:03.983328Z"
    },
    "papermill": {
     "duration": 0.033029,
     "end_time": "2024-11-24T12:27:03.986812",
     "exception": false,
     "start_time": "2024-11-24T12:27:03.953783",
     "status": "completed"
    },
    "tags": []
   },
   "outputs": [
    {
     "data": {
      "text/html": [
       "<div>\n",
       "<style scoped>\n",
       "    .dataframe tbody tr th:only-of-type {\n",
       "        vertical-align: middle;\n",
       "    }\n",
       "\n",
       "    .dataframe tbody tr th {\n",
       "        vertical-align: top;\n",
       "    }\n",
       "\n",
       "    .dataframe thead th {\n",
       "        text-align: right;\n",
       "    }\n",
       "</style>\n",
       "<table border=\"1\" class=\"dataframe\">\n",
       "  <thead>\n",
       "    <tr style=\"text-align: right;\">\n",
       "      <th></th>\n",
       "      <th>Age</th>\n",
       "      <th>Gender</th>\n",
       "      <th>Weight_kg</th>\n",
       "      <th>Height_m</th>\n",
       "      <th>Max_BPM</th>\n",
       "      <th>Avg_BPM</th>\n",
       "      <th>Resting_BPM</th>\n",
       "      <th>Session_Duration_hours</th>\n",
       "      <th>Calories_Burned</th>\n",
       "      <th>Workout_Type</th>\n",
       "      <th>Fat_Percentage</th>\n",
       "      <th>Water_Intake_liters</th>\n",
       "      <th>Workout_Frequency_days/week</th>\n",
       "      <th>Experience_Level</th>\n",
       "      <th>BMI</th>\n",
       "    </tr>\n",
       "  </thead>\n",
       "  <tbody>\n",
       "    <tr>\n",
       "      <th>0</th>\n",
       "      <td>56</td>\n",
       "      <td>1</td>\n",
       "      <td>88.3</td>\n",
       "      <td>1.71</td>\n",
       "      <td>180</td>\n",
       "      <td>157</td>\n",
       "      <td>60</td>\n",
       "      <td>1.69</td>\n",
       "      <td>1313.0</td>\n",
       "      <td>3</td>\n",
       "      <td>12.6</td>\n",
       "      <td>3.5</td>\n",
       "      <td>4</td>\n",
       "      <td>3</td>\n",
       "      <td>30.20</td>\n",
       "    </tr>\n",
       "    <tr>\n",
       "      <th>1</th>\n",
       "      <td>46</td>\n",
       "      <td>0</td>\n",
       "      <td>74.9</td>\n",
       "      <td>1.53</td>\n",
       "      <td>179</td>\n",
       "      <td>151</td>\n",
       "      <td>66</td>\n",
       "      <td>1.30</td>\n",
       "      <td>883.0</td>\n",
       "      <td>1</td>\n",
       "      <td>33.9</td>\n",
       "      <td>2.1</td>\n",
       "      <td>4</td>\n",
       "      <td>2</td>\n",
       "      <td>32.00</td>\n",
       "    </tr>\n",
       "    <tr>\n",
       "      <th>2</th>\n",
       "      <td>32</td>\n",
       "      <td>0</td>\n",
       "      <td>68.1</td>\n",
       "      <td>1.66</td>\n",
       "      <td>167</td>\n",
       "      <td>122</td>\n",
       "      <td>54</td>\n",
       "      <td>1.11</td>\n",
       "      <td>677.0</td>\n",
       "      <td>0</td>\n",
       "      <td>33.4</td>\n",
       "      <td>2.3</td>\n",
       "      <td>4</td>\n",
       "      <td>2</td>\n",
       "      <td>24.71</td>\n",
       "    </tr>\n",
       "    <tr>\n",
       "      <th>3</th>\n",
       "      <td>25</td>\n",
       "      <td>1</td>\n",
       "      <td>53.2</td>\n",
       "      <td>1.70</td>\n",
       "      <td>190</td>\n",
       "      <td>164</td>\n",
       "      <td>56</td>\n",
       "      <td>0.59</td>\n",
       "      <td>532.0</td>\n",
       "      <td>2</td>\n",
       "      <td>28.8</td>\n",
       "      <td>2.1</td>\n",
       "      <td>3</td>\n",
       "      <td>1</td>\n",
       "      <td>18.41</td>\n",
       "    </tr>\n",
       "    <tr>\n",
       "      <th>4</th>\n",
       "      <td>38</td>\n",
       "      <td>1</td>\n",
       "      <td>46.1</td>\n",
       "      <td>1.79</td>\n",
       "      <td>188</td>\n",
       "      <td>158</td>\n",
       "      <td>68</td>\n",
       "      <td>0.64</td>\n",
       "      <td>556.0</td>\n",
       "      <td>2</td>\n",
       "      <td>29.2</td>\n",
       "      <td>2.8</td>\n",
       "      <td>3</td>\n",
       "      <td>1</td>\n",
       "      <td>14.39</td>\n",
       "    </tr>\n",
       "  </tbody>\n",
       "</table>\n",
       "</div>"
      ],
      "text/plain": [
       "   Age  Gender  Weight_kg  Height_m  Max_BPM  Avg_BPM  Resting_BPM  \\\n",
       "0   56       1       88.3      1.71      180      157           60   \n",
       "1   46       0       74.9      1.53      179      151           66   \n",
       "2   32       0       68.1      1.66      167      122           54   \n",
       "3   25       1       53.2      1.70      190      164           56   \n",
       "4   38       1       46.1      1.79      188      158           68   \n",
       "\n",
       "   Session_Duration_hours  Calories_Burned  Workout_Type  Fat_Percentage  \\\n",
       "0                    1.69           1313.0             3            12.6   \n",
       "1                    1.30            883.0             1            33.9   \n",
       "2                    1.11            677.0             0            33.4   \n",
       "3                    0.59            532.0             2            28.8   \n",
       "4                    0.64            556.0             2            29.2   \n",
       "\n",
       "   Water_Intake_liters  Workout_Frequency_days/week  Experience_Level    BMI  \n",
       "0                  3.5                            4                 3  30.20  \n",
       "1                  2.1                            4                 2  32.00  \n",
       "2                  2.3                            4                 2  24.71  \n",
       "3                  2.1                            3                 1  18.41  \n",
       "4                  2.8                            3                 1  14.39  "
      ]
     },
     "execution_count": 19,
     "metadata": {},
     "output_type": "execute_result"
    }
   ],
   "source": [
    "df.head()"
   ]
  },
  {
   "cell_type": "code",
   "execution_count": 20,
   "id": "a2a7dd8c",
   "metadata": {
    "execution": {
     "iopub.execute_input": "2024-11-24T12:27:04.014092Z",
     "iopub.status.busy": "2024-11-24T12:27:04.012862Z",
     "iopub.status.idle": "2024-11-24T12:27:04.021742Z",
     "shell.execute_reply": "2024-11-24T12:27:04.020271Z"
    },
    "papermill": {
     "duration": 0.024716,
     "end_time": "2024-11-24T12:27:04.024303",
     "exception": false,
     "start_time": "2024-11-24T12:27:03.999587",
     "status": "completed"
    },
    "tags": []
   },
   "outputs": [
    {
     "name": "stdout",
     "output_type": "stream",
     "text": [
      "Data x:  (973, 14)\n",
      "Data y:  (973,)\n"
     ]
    }
   ],
   "source": [
    "x = df.drop(columns = ['Experience_Level'])\n",
    "y = df['Experience_Level']\n",
    "\n",
    "print('Data x: ', x.shape)\n",
    "print('Data y: ', y.shape)"
   ]
  },
  {
   "cell_type": "code",
   "execution_count": 21,
   "id": "e1f3e9c2",
   "metadata": {
    "execution": {
     "iopub.execute_input": "2024-11-24T12:27:04.049932Z",
     "iopub.status.busy": "2024-11-24T12:27:04.048935Z",
     "iopub.status.idle": "2024-11-24T12:27:04.058415Z",
     "shell.execute_reply": "2024-11-24T12:27:04.057319Z"
    },
    "papermill": {
     "duration": 0.024673,
     "end_time": "2024-11-24T12:27:04.060665",
     "exception": false,
     "start_time": "2024-11-24T12:27:04.035992",
     "status": "completed"
    },
    "tags": []
   },
   "outputs": [],
   "source": [
    "x_train, x_test, y_train, y_test = train_test_split(x, y, test_size=0.2, random_state= 42)"
   ]
  },
  {
   "cell_type": "code",
   "execution_count": 22,
   "id": "ecda3376",
   "metadata": {
    "execution": {
     "iopub.execute_input": "2024-11-24T12:27:04.085958Z",
     "iopub.status.busy": "2024-11-24T12:27:04.085080Z",
     "iopub.status.idle": "2024-11-24T12:27:04.091168Z",
     "shell.execute_reply": "2024-11-24T12:27:04.090013Z"
    },
    "papermill": {
     "duration": 0.021066,
     "end_time": "2024-11-24T12:27:04.093426",
     "exception": false,
     "start_time": "2024-11-24T12:27:04.072360",
     "status": "completed"
    },
    "tags": []
   },
   "outputs": [
    {
     "name": "stdout",
     "output_type": "stream",
     "text": [
      "Data tranining x:  (778, 14)\n",
      "Data tranining y:  (778,)\n",
      "Data test x:  (195, 14)\n",
      "Data test y:  (195,)\n"
     ]
    }
   ],
   "source": [
    "print('Data tranining x: ', x_train.shape)\n",
    "print('Data tranining y: ', y_train.shape)\n",
    "print('Data test x: ', x_test.shape)\n",
    "print('Data test y: ', y_test.shape)"
   ]
  },
  {
   "cell_type": "markdown",
   "id": "79a21638",
   "metadata": {
    "papermill": {
     "duration": 0.011172,
     "end_time": "2024-11-24T12:27:04.116227",
     "exception": false,
     "start_time": "2024-11-24T12:27:04.105055",
     "status": "completed"
    },
    "tags": []
   },
   "source": [
    "5. Modelling"
   ]
  },
  {
   "cell_type": "code",
   "execution_count": 23,
   "id": "eb10338d",
   "metadata": {
    "execution": {
     "iopub.execute_input": "2024-11-24T12:27:04.142584Z",
     "iopub.status.busy": "2024-11-24T12:27:04.142170Z",
     "iopub.status.idle": "2024-11-24T12:27:04.174357Z",
     "shell.execute_reply": "2024-11-24T12:27:04.172710Z"
    },
    "papermill": {
     "duration": 0.049246,
     "end_time": "2024-11-24T12:27:04.177207",
     "exception": false,
     "start_time": "2024-11-24T12:27:04.127961",
     "status": "completed"
    },
    "tags": []
   },
   "outputs": [
    {
     "name": "stdout",
     "output_type": "stream",
     "text": [
      "              precision    recall  f1-score   support\n",
      "\n",
      "           1       0.58      0.65      0.61        69\n",
      "           2       0.69      0.62      0.65        84\n",
      "           3       0.93      0.93      0.93        42\n",
      "\n",
      "    accuracy                           0.70       195\n",
      "   macro avg       0.73      0.73      0.73       195\n",
      "weighted avg       0.70      0.70      0.70       195\n",
      "\n",
      "Akurasi Model KNN: 69.74%\n"
     ]
    }
   ],
   "source": [
    "knn = KNeighborsClassifier(n_neighbors=3)\n",
    "knn.fit(x_train, y_train)\n",
    "\n",
    "y_pred = knn.predict(x_test)\n",
    "KNN_acc = accuracy_score(y_pred, y_test)\n",
    "\n",
    "print(classification_report(y_pred, y_test))\n",
    "print('Akurasi Model KNN: {:.2f}%'.format(KNN_acc*100))"
   ]
  },
  {
   "cell_type": "code",
   "execution_count": 24,
   "id": "6e823f0b",
   "metadata": {
    "execution": {
     "iopub.execute_input": "2024-11-24T12:27:04.203109Z",
     "iopub.status.busy": "2024-11-24T12:27:04.202704Z",
     "iopub.status.idle": "2024-11-24T12:27:04.221089Z",
     "shell.execute_reply": "2024-11-24T12:27:04.219714Z"
    },
    "papermill": {
     "duration": 0.03443,
     "end_time": "2024-11-24T12:27:04.223749",
     "exception": false,
     "start_time": "2024-11-24T12:27:04.189319",
     "status": "completed"
    },
    "tags": []
   },
   "outputs": [
    {
     "data": {
      "text/html": [
       "<div>\n",
       "<style scoped>\n",
       "    .dataframe tbody tr th:only-of-type {\n",
       "        vertical-align: middle;\n",
       "    }\n",
       "\n",
       "    .dataframe tbody tr th {\n",
       "        vertical-align: top;\n",
       "    }\n",
       "\n",
       "    .dataframe thead th {\n",
       "        text-align: right;\n",
       "    }\n",
       "</style>\n",
       "<table border=\"1\" class=\"dataframe\">\n",
       "  <thead>\n",
       "    <tr style=\"text-align: right;\">\n",
       "      <th></th>\n",
       "      <th>Age</th>\n",
       "      <th>Gender</th>\n",
       "      <th>Weight_kg</th>\n",
       "      <th>Height_m</th>\n",
       "      <th>Max_BPM</th>\n",
       "      <th>Avg_BPM</th>\n",
       "      <th>Resting_BPM</th>\n",
       "      <th>Session_Duration_hours</th>\n",
       "      <th>Calories_Burned</th>\n",
       "      <th>Workout_Type</th>\n",
       "      <th>Fat_Percentage</th>\n",
       "      <th>Water_Intake_liters</th>\n",
       "      <th>Workout_Frequency_days/week</th>\n",
       "      <th>Experience_Level</th>\n",
       "      <th>BMI</th>\n",
       "    </tr>\n",
       "  </thead>\n",
       "  <tbody>\n",
       "    <tr>\n",
       "      <th>0</th>\n",
       "      <td>56</td>\n",
       "      <td>1</td>\n",
       "      <td>88.3</td>\n",
       "      <td>1.71</td>\n",
       "      <td>180</td>\n",
       "      <td>157</td>\n",
       "      <td>60</td>\n",
       "      <td>1.69</td>\n",
       "      <td>1313.0</td>\n",
       "      <td>3</td>\n",
       "      <td>12.6</td>\n",
       "      <td>3.5</td>\n",
       "      <td>4</td>\n",
       "      <td>3</td>\n",
       "      <td>30.20</td>\n",
       "    </tr>\n",
       "    <tr>\n",
       "      <th>1</th>\n",
       "      <td>46</td>\n",
       "      <td>0</td>\n",
       "      <td>74.9</td>\n",
       "      <td>1.53</td>\n",
       "      <td>179</td>\n",
       "      <td>151</td>\n",
       "      <td>66</td>\n",
       "      <td>1.30</td>\n",
       "      <td>883.0</td>\n",
       "      <td>1</td>\n",
       "      <td>33.9</td>\n",
       "      <td>2.1</td>\n",
       "      <td>4</td>\n",
       "      <td>2</td>\n",
       "      <td>32.00</td>\n",
       "    </tr>\n",
       "    <tr>\n",
       "      <th>2</th>\n",
       "      <td>32</td>\n",
       "      <td>0</td>\n",
       "      <td>68.1</td>\n",
       "      <td>1.66</td>\n",
       "      <td>167</td>\n",
       "      <td>122</td>\n",
       "      <td>54</td>\n",
       "      <td>1.11</td>\n",
       "      <td>677.0</td>\n",
       "      <td>0</td>\n",
       "      <td>33.4</td>\n",
       "      <td>2.3</td>\n",
       "      <td>4</td>\n",
       "      <td>2</td>\n",
       "      <td>24.71</td>\n",
       "    </tr>\n",
       "    <tr>\n",
       "      <th>3</th>\n",
       "      <td>25</td>\n",
       "      <td>1</td>\n",
       "      <td>53.2</td>\n",
       "      <td>1.70</td>\n",
       "      <td>190</td>\n",
       "      <td>164</td>\n",
       "      <td>56</td>\n",
       "      <td>0.59</td>\n",
       "      <td>532.0</td>\n",
       "      <td>2</td>\n",
       "      <td>28.8</td>\n",
       "      <td>2.1</td>\n",
       "      <td>3</td>\n",
       "      <td>1</td>\n",
       "      <td>18.41</td>\n",
       "    </tr>\n",
       "    <tr>\n",
       "      <th>4</th>\n",
       "      <td>38</td>\n",
       "      <td>1</td>\n",
       "      <td>46.1</td>\n",
       "      <td>1.79</td>\n",
       "      <td>188</td>\n",
       "      <td>158</td>\n",
       "      <td>68</td>\n",
       "      <td>0.64</td>\n",
       "      <td>556.0</td>\n",
       "      <td>2</td>\n",
       "      <td>29.2</td>\n",
       "      <td>2.8</td>\n",
       "      <td>3</td>\n",
       "      <td>1</td>\n",
       "      <td>14.39</td>\n",
       "    </tr>\n",
       "  </tbody>\n",
       "</table>\n",
       "</div>"
      ],
      "text/plain": [
       "   Age  Gender  Weight_kg  Height_m  Max_BPM  Avg_BPM  Resting_BPM  \\\n",
       "0   56       1       88.3      1.71      180      157           60   \n",
       "1   46       0       74.9      1.53      179      151           66   \n",
       "2   32       0       68.1      1.66      167      122           54   \n",
       "3   25       1       53.2      1.70      190      164           56   \n",
       "4   38       1       46.1      1.79      188      158           68   \n",
       "\n",
       "   Session_Duration_hours  Calories_Burned  Workout_Type  Fat_Percentage  \\\n",
       "0                    1.69           1313.0             3            12.6   \n",
       "1                    1.30            883.0             1            33.9   \n",
       "2                    1.11            677.0             0            33.4   \n",
       "3                    0.59            532.0             2            28.8   \n",
       "4                    0.64            556.0             2            29.2   \n",
       "\n",
       "   Water_Intake_liters  Workout_Frequency_days/week  Experience_Level    BMI  \n",
       "0                  3.5                            4                 3  30.20  \n",
       "1                  2.1                            4                 2  32.00  \n",
       "2                  2.3                            4                 2  24.71  \n",
       "3                  2.1                            3                 1  18.41  \n",
       "4                  2.8                            3                 1  14.39  "
      ]
     },
     "execution_count": 24,
     "metadata": {},
     "output_type": "execute_result"
    }
   ],
   "source": [
    "df.head()"
   ]
  },
  {
   "cell_type": "code",
   "execution_count": 25,
   "id": "8aeb43df",
   "metadata": {
    "execution": {
     "iopub.execute_input": "2024-11-24T12:27:04.250040Z",
     "iopub.status.busy": "2024-11-24T12:27:04.249571Z",
     "iopub.status.idle": "2024-11-24T12:27:04.270205Z",
     "shell.execute_reply": "2024-11-24T12:27:04.268960Z"
    },
    "papermill": {
     "duration": 0.036352,
     "end_time": "2024-11-24T12:27:04.272517",
     "exception": false,
     "start_time": "2024-11-24T12:27:04.236165",
     "status": "completed"
    },
    "tags": []
   },
   "outputs": [
    {
     "data": {
      "text/html": [
       "<div>\n",
       "<style scoped>\n",
       "    .dataframe tbody tr th:only-of-type {\n",
       "        vertical-align: middle;\n",
       "    }\n",
       "\n",
       "    .dataframe tbody tr th {\n",
       "        vertical-align: top;\n",
       "    }\n",
       "\n",
       "    .dataframe thead th {\n",
       "        text-align: right;\n",
       "    }\n",
       "</style>\n",
       "<table border=\"1\" class=\"dataframe\">\n",
       "  <thead>\n",
       "    <tr style=\"text-align: right;\">\n",
       "      <th></th>\n",
       "      <th>Age</th>\n",
       "      <th>Gender</th>\n",
       "      <th>Weight_kg</th>\n",
       "      <th>Height_m</th>\n",
       "      <th>Max_BPM</th>\n",
       "      <th>Avg_BPM</th>\n",
       "      <th>Resting_BPM</th>\n",
       "      <th>Session_Duration_hours</th>\n",
       "      <th>Calories_Burned</th>\n",
       "      <th>Workout_Type</th>\n",
       "      <th>Fat_Percentage</th>\n",
       "      <th>Water_Intake_liters</th>\n",
       "      <th>Workout_Frequency_days/week</th>\n",
       "      <th>BMI</th>\n",
       "    </tr>\n",
       "  </thead>\n",
       "  <tbody>\n",
       "    <tr>\n",
       "      <th>0</th>\n",
       "      <td>56</td>\n",
       "      <td>1</td>\n",
       "      <td>88.3</td>\n",
       "      <td>1.71</td>\n",
       "      <td>180</td>\n",
       "      <td>157</td>\n",
       "      <td>60</td>\n",
       "      <td>1.69</td>\n",
       "      <td>1313.0</td>\n",
       "      <td>3</td>\n",
       "      <td>12.6</td>\n",
       "      <td>3.5</td>\n",
       "      <td>4</td>\n",
       "      <td>30.2</td>\n",
       "    </tr>\n",
       "  </tbody>\n",
       "</table>\n",
       "</div>"
      ],
      "text/plain": [
       "   Age  Gender  Weight_kg  Height_m  Max_BPM  Avg_BPM  Resting_BPM  \\\n",
       "0   56       1       88.3      1.71      180      157           60   \n",
       "\n",
       "   Session_Duration_hours  Calories_Burned  Workout_Type  Fat_Percentage  \\\n",
       "0                    1.69           1313.0             3            12.6   \n",
       "\n",
       "   Water_Intake_liters  Workout_Frequency_days/week   BMI  \n",
       "0                  3.5                            4  30.2  "
      ]
     },
     "execution_count": 25,
     "metadata": {},
     "output_type": "execute_result"
    }
   ],
   "source": [
    "testing = {\n",
    "    'Age' : [56], \n",
    "    'Gender' : [1], \n",
    "    'Weight_kg' : [88.3],\n",
    "    'Height_m' : [1.71],\n",
    "    'Max_BPM' : [180],\n",
    "    'Avg_BPM' : [157],\n",
    "    'Resting_BPM' : [60],\n",
    "    'Session_Duration_hours' : [1.69],\n",
    "    'Calories_Burned' : [1313.0],\n",
    "    'Workout_Type' : [3],\n",
    "    'Fat_Percentage' : [12.6],\n",
    "    'Water_Intake_liters' : [3.5],\n",
    "    'Workout_Frequency_days/week' : [4],\n",
    "    'BMI' : [30.20]\n",
    "}\n",
    "\n",
    "testing = pd.DataFrame(testing)\n",
    "testing"
   ]
  },
  {
   "cell_type": "code",
   "execution_count": 26,
   "id": "ac8d05ad",
   "metadata": {
    "execution": {
     "iopub.execute_input": "2024-11-24T12:27:04.298110Z",
     "iopub.status.busy": "2024-11-24T12:27:04.297670Z",
     "iopub.status.idle": "2024-11-24T12:27:04.309803Z",
     "shell.execute_reply": "2024-11-24T12:27:04.308529Z"
    },
    "papermill": {
     "duration": 0.027464,
     "end_time": "2024-11-24T12:27:04.311822",
     "exception": false,
     "start_time": "2024-11-24T12:27:04.284358",
     "status": "completed"
    },
    "tags": []
   },
   "outputs": [
    {
     "name": "stdout",
     "output_type": "stream",
     "text": [
      "Level Experience Olahraga Saya adalah \n",
      "[3]\n"
     ]
    }
   ],
   "source": [
    "pred_coba = knn.predict(testing)\n",
    "\n",
    "print('Level Experience Olahraga Saya adalah ')\n",
    "print(pred_coba)"
   ]
  }
 ],
 "metadata": {
  "kaggle": {
   "accelerator": "none",
   "dataSources": [
    {
     "datasetId": 5825454,
     "sourceId": 9559728,
     "sourceType": "datasetVersion"
    }
   ],
   "dockerImageVersionId": 30786,
   "isGpuEnabled": false,
   "isInternetEnabled": true,
   "language": "python",
   "sourceType": "notebook"
  },
  "kernelspec": {
   "display_name": "Python 3",
   "language": "python",
   "name": "python3"
  },
  "language_info": {
   "codemirror_mode": {
    "name": "ipython",
    "version": 3
   },
   "file_extension": ".py",
   "mimetype": "text/x-python",
   "name": "python",
   "nbconvert_exporter": "python",
   "pygments_lexer": "ipython3",
   "version": "3.10.14"
  },
  "papermill": {
   "default_parameters": {},
   "duration": 9.298192,
   "end_time": "2024-11-24T12:27:05.247559",
   "environment_variables": {},
   "exception": null,
   "input_path": "__notebook__.ipynb",
   "output_path": "__notebook__.ipynb",
   "parameters": {},
   "start_time": "2024-11-24T12:26:55.949367",
   "version": "2.6.0"
  }
 },
 "nbformat": 4,
 "nbformat_minor": 5
}
